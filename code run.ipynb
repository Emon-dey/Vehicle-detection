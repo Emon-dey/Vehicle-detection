{
 "cells": [
  {
   "cell_type": "code",
   "execution_count": 2,
   "metadata": {
    "scrolled": true
   },
   "outputs": [
    {
     "name": "stderr",
     "output_type": "stream",
     "text": [
      "WARNING:tensorflow:From D:\\Desktop\\Point-GNN-final\\data_viz_pred.py:110: The name tf.placeholder is deprecated. Please use tf.compat.v1.placeholder instead.\n",
      "\n",
      "WARNING:tensorflow:From D:\\Desktop\\Point-GNN-final\\models\\models.py:128: The name tf.variable_scope is deprecated. Please use tf.compat.v1.variable_scope instead.\n",
      "\n",
      "WARNING:tensorflow:From D:\\Desktop\\Point-GNN-final\\models\\models.py:128: The name tf.AUTO_REUSE is deprecated. Please use tf.compat.v1.AUTO_REUSE instead.\n",
      "\n"
     ]
    },
    {
     "name": "stdout",
     "output_type": "stream",
     "text": [
      "@ level 0 Graph, Add layer: layer1, type: scatter_max_point_set_pooling\n",
      "Feature Dim:300\n",
      "@ level 1 Graph, Add layer: layer2, type: scatter_max_graph_auto_center_net\n",
      "Feature Dim:300\n",
      "@ level 1 Graph, Add layer: layer3, type: scatter_max_graph_auto_center_net\n",
      "Feature Dim:300\n",
      "@ level 1 Graph, Add layer: layer4, type: scatter_max_graph_auto_center_net\n",
      "Feature Dim:300\n",
      "Final Feature Dim:300\n",
      "Prediction 4 classes\n"
     ]
    },
    {
     "name": "stderr",
     "output_type": "stream",
     "text": [
      "WARNING:tensorflow:From D:\\Desktop\\Point-GNN-final\\data_viz_pred.py:185: The name tf.train.Saver is deprecated. Please use tf.compat.v1.train.Saver instead.\n",
      "\n",
      "WARNING:tensorflow:From D:\\Desktop\\Point-GNN-final\\data_viz_pred.py:186: The name tf.get_default_graph is deprecated. Please use tf.compat.v1.get_default_graph instead.\n",
      "\n",
      "WARNING:tensorflow:From D:\\Desktop\\Point-GNN-final\\data_viz_pred.py:187: The name tf.GPUOptions is deprecated. Please use tf.compat.v1.GPUOptions instead.\n",
      "\n"
     ]
    },
    {
     "name": "stdout",
     "output_type": "stream",
     "text": [
      "Restore from checkpoint D:/Desktop/Point-GNN-final/ckp/model1\\model-1400000\n"
     ]
    },
    {
     "name": "stderr",
     "output_type": "stream",
     "text": [
      "WARNING:tensorflow:From C:\\ProgramData\\Anaconda3\\lib\\site-packages\\tensorflow\\python\\training\\saver.py:1276: checkpoint_exists (from tensorflow.python.training.checkpoint_management) is deprecated and will be removed in a future version.\n",
      "Instructions for updating:\n",
      "Use standard file APIs to check for files with this prefix.\n",
      "  0%|                                                                                            | 0/2 [00:00<?, ?it/s]"
     ]
    },
    {
     "name": "stdout",
     "output_type": "stream",
     "text": [
      "Configure the viewpoint as you want and press [q]\n"
     ]
    },
    {
     "name": "stderr",
     "output_type": "stream",
     "text": [
      "\r",
      " 50%|██████████████████████████████████████████                                          | 1/2 [00:07<00:07,  7.50s/it]"
     ]
    },
    {
     "name": "stdout",
     "output_type": "stream",
     "text": [
      "Configure the viewpoint as you want and press [q]\n"
     ]
    },
    {
     "name": "stderr",
     "output_type": "stream",
     "text": [
      "100%|████████████████████████████████████████████████████████████████████████████████████| 2/2 [00:10<00:00,  5.17s/it]\n"
     ]
    },
    {
     "name": "stdout",
     "output_type": "stream",
     "text": [
      "fetch input time : 0.034506916999816895\n",
      "gen graph time : 0.11402559280395508\n",
      "gnn inference time : 0.6451483964920044\n",
      "decode box time : 0.002000570297241211\n",
      "nms time : 0.06501448154449463\n",
      "total time : 5.1722564697265625\n"
     ]
    }
   ],
   "source": [
    "%run -i data_viz_pred.py ./ckp/model1 --dataset_split_file testfile.txt --dataset_root_dir D:/Desktop/data_object/"
   ]
  },
  {
   "cell_type": "code",
   "execution_count": null,
   "metadata": {},
   "outputs": [],
   "source": []
  }
 ],
 "metadata": {
  "kernelspec": {
   "display_name": "Python 3",
   "language": "python",
   "name": "python3"
  },
  "language_info": {
   "codemirror_mode": {
    "name": "ipython",
    "version": 3
   },
   "file_extension": ".py",
   "mimetype": "text/x-python",
   "name": "python",
   "nbconvert_exporter": "python",
   "pygments_lexer": "ipython3",
   "version": "3.7.4"
  }
 },
 "nbformat": 4,
 "nbformat_minor": 2
}
